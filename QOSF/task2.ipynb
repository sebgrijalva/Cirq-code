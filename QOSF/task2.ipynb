{
  "nbformat": 4,
  "nbformat_minor": 0,
  "metadata": {
    "colab": {
      "name": "task2.ipynb",
      "provenance": [],
      "collapsed_sections": [],
      "include_colab_link": true
    },
    "kernelspec": {
      "name": "python3",
      "display_name": "Python 3"
    }
  },
  "cells": [
    {
      "cell_type": "markdown",
      "metadata": {
        "id": "view-in-github",
        "colab_type": "text"
      },
      "source": [
        "<a href=\"https://colab.research.google.com/github/sebgrijalva/Cirq-code/blob/master/QOSF/task2.ipynb\" target=\"_parent\"><img src=\"https://colab.research.google.com/assets/colab-badge.svg\" alt=\"Open In Colab\"/></a>"
      ]
    },
    {
      "cell_type": "code",
      "metadata": {
        "id": "1flm3ESZ9dTg",
        "colab_type": "code",
        "outputId": "f58702a2-1f55-4888-86ac-0b3451410d49",
        "colab": {
          "base_uri": "https://localhost:8080/",
          "height": 595
        }
      },
      "source": [
        "!pip3 install cirq\n",
        "import random\n",
        "import cirq"
      ],
      "execution_count": 3,
      "outputs": [
        {
          "output_type": "stream",
          "text": [
            "Requirement already satisfied: cirq in /usr/local/lib/python3.6/dist-packages (0.7.0)\n",
            "Requirement already satisfied: protobuf==3.8.0 in /usr/local/lib/python3.6/dist-packages (from cirq) (3.8.0)\n",
            "Requirement already satisfied: networkx==2.3 in /usr/local/lib/python3.6/dist-packages (from cirq) (2.3)\n",
            "Requirement already satisfied: requests~=2.18 in /usr/local/lib/python3.6/dist-packages (from cirq) (2.21.0)\n",
            "Requirement already satisfied: sympy==1.4 in /usr/local/lib/python3.6/dist-packages (from cirq) (1.4)\n",
            "Requirement already satisfied: pandas in /usr/local/lib/python3.6/dist-packages (from cirq) (0.25.3)\n",
            "Requirement already satisfied: dataclasses; python_version < \"3.7\" in /usr/local/lib/python3.6/dist-packages (from cirq) (0.7)\n",
            "Requirement already satisfied: matplotlib~=3.0 in /usr/local/lib/python3.6/dist-packages (from cirq) (3.1.3)\n",
            "Requirement already satisfied: google-api-python-client~=1.6 in /usr/local/lib/python3.6/dist-packages (from cirq) (1.7.11)\n",
            "Requirement already satisfied: sortedcontainers~=2.0 in /usr/local/lib/python3.6/dist-packages (from cirq) (2.1.0)\n",
            "Requirement already satisfied: numpy~=1.16 in /usr/local/lib/python3.6/dist-packages (from cirq) (1.17.5)\n",
            "Requirement already satisfied: scipy in /usr/local/lib/python3.6/dist-packages (from cirq) (1.4.1)\n",
            "Requirement already satisfied: typing-extensions in /usr/local/lib/python3.6/dist-packages (from cirq) (3.6.6)\n",
            "Requirement already satisfied: setuptools in /usr/local/lib/python3.6/dist-packages (from protobuf==3.8.0->cirq) (45.1.0)\n",
            "Requirement already satisfied: six>=1.9 in /usr/local/lib/python3.6/dist-packages (from protobuf==3.8.0->cirq) (1.12.0)\n",
            "Requirement already satisfied: decorator>=4.3.0 in /usr/local/lib/python3.6/dist-packages (from networkx==2.3->cirq) (4.4.1)\n",
            "Requirement already satisfied: idna<2.9,>=2.5 in /usr/local/lib/python3.6/dist-packages (from requests~=2.18->cirq) (2.8)\n",
            "Requirement already satisfied: urllib3<1.25,>=1.21.1 in /usr/local/lib/python3.6/dist-packages (from requests~=2.18->cirq) (1.24.3)\n",
            "Requirement already satisfied: certifi>=2017.4.17 in /usr/local/lib/python3.6/dist-packages (from requests~=2.18->cirq) (2019.11.28)\n",
            "Requirement already satisfied: chardet<3.1.0,>=3.0.2 in /usr/local/lib/python3.6/dist-packages (from requests~=2.18->cirq) (3.0.4)\n",
            "Requirement already satisfied: mpmath>=0.19 in /usr/local/lib/python3.6/dist-packages (from sympy==1.4->cirq) (1.1.0)\n",
            "Requirement already satisfied: pytz>=2017.2 in /usr/local/lib/python3.6/dist-packages (from pandas->cirq) (2018.9)\n",
            "Requirement already satisfied: python-dateutil>=2.6.1 in /usr/local/lib/python3.6/dist-packages (from pandas->cirq) (2.6.1)\n",
            "Requirement already satisfied: pyparsing!=2.0.4,!=2.1.2,!=2.1.6,>=2.0.1 in /usr/local/lib/python3.6/dist-packages (from matplotlib~=3.0->cirq) (2.4.6)\n",
            "Requirement already satisfied: cycler>=0.10 in /usr/local/lib/python3.6/dist-packages (from matplotlib~=3.0->cirq) (0.10.0)\n",
            "Requirement already satisfied: kiwisolver>=1.0.1 in /usr/local/lib/python3.6/dist-packages (from matplotlib~=3.0->cirq) (1.1.0)\n",
            "Requirement already satisfied: google-auth-httplib2>=0.0.3 in /usr/local/lib/python3.6/dist-packages (from google-api-python-client~=1.6->cirq) (0.0.3)\n",
            "Requirement already satisfied: google-auth>=1.4.1 in /usr/local/lib/python3.6/dist-packages (from google-api-python-client~=1.6->cirq) (1.7.2)\n",
            "Requirement already satisfied: httplib2<1dev,>=0.9.2 in /usr/local/lib/python3.6/dist-packages (from google-api-python-client~=1.6->cirq) (0.11.3)\n",
            "Requirement already satisfied: uritemplate<4dev,>=3.0.0 in /usr/local/lib/python3.6/dist-packages (from google-api-python-client~=1.6->cirq) (3.0.1)\n",
            "Requirement already satisfied: pyasn1-modules>=0.2.1 in /usr/local/lib/python3.6/dist-packages (from google-auth>=1.4.1->google-api-python-client~=1.6->cirq) (0.2.8)\n",
            "Requirement already satisfied: cachetools<3.2,>=2.0.0 in /usr/local/lib/python3.6/dist-packages (from google-auth>=1.4.1->google-api-python-client~=1.6->cirq) (3.1.1)\n",
            "Requirement already satisfied: rsa<4.1,>=3.1.4 in /usr/local/lib/python3.6/dist-packages (from google-auth>=1.4.1->google-api-python-client~=1.6->cirq) (4.0)\n",
            "Requirement already satisfied: pyasn1<0.5.0,>=0.4.6 in /usr/local/lib/python3.6/dist-packages (from pyasn1-modules>=0.2.1->google-auth>=1.4.1->google-api-python-client~=1.6->cirq) (0.4.8)\n"
          ],
          "name": "stdout"
        }
      ]
    },
    {
      "cell_type": "code",
      "metadata": {
        "id": "dWjYKUVSXb4j",
        "colab_type": "code",
        "colab": {}
      },
      "source": [
        "#needed for classical post-processing and evaluation;\n",
        "import numpy as np\n",
        "from collections import Counter\n",
        "import matplotlib.pyplot as plt"
      ],
      "execution_count": 0,
      "outputs": []
    },
    {
      "cell_type": "code",
      "metadata": {
        "id": "20wkKYDe9t3C",
        "colab_type": "code",
        "outputId": "63d25ccd-764e-49af-e46a-5e48733f1b17",
        "colab": {
          "base_uri": "https://localhost:8080/",
          "height": 1000
        }
      },
      "source": [
        "def main(qubit_count = 2):\n",
        "\n",
        "    n_samples = 1000\n",
        "    parameter = 2*np.pi*(random.random()-1/2) #starting with our parameter somewhere btw -pi,pi\n",
        "\n",
        "    error_data = []\n",
        "    parameter_data = [parameter]\n",
        "    error = 1\n",
        "    step = 0.01 #for gradient descent\n",
        "\n",
        "    # Choose qubits to use.\n",
        "    input_qubits = [cirq.GridQubit(0,0),cirq.GridQubit(0, 1)]\n",
        "    \n",
        "    scanning = True\n",
        "    iterations = 0\n",
        "    while scanning and iterations < 100:\n",
        "        # Build circuit (with updated parameter):\n",
        "        circuit = make_circuit(input_qubits, parameter)\n",
        "\n",
        "\n",
        "        data=[] #we'll store here the results of the sampling\n",
        "\n",
        "        # Sampling:\n",
        "        ##############################################################\n",
        "        for _ in range(n_samples):\n",
        "            \n",
        "            simulator = cirq.Simulator()\n",
        "            results = simulator.run(circuit).measurements['result'][0]\n",
        "            #print(results)\n",
        "            data.append(str(results))\n",
        "        \n",
        "\n",
        "        #print(data)\n",
        "        freqs = Counter(data)\n",
        "            \n",
        "        #Classical Post-Processing:   \n",
        "        ##############################################################\n",
        "\n",
        "        #Objective function is to cancel the amplitudes of the |01> and |10> states and to have the others equal.\n",
        "        new_error = freqs['[0 1]']/n_samples + freqs['[1 0]']/n_samples + (freqs['[0 0]']/n_samples - freqs['[1 1]']/n_samples)**2\n",
        "        \n",
        "        error_data.append(new_error)\n",
        "        print(f'iteration {iterations}: parameter = {parameter}, error = {new_error}')\n",
        "        if new_error < 0.05: \n",
        "            scanning = False\n",
        "        else: \n",
        "            # go against max descent and big error. If True, force symmetric state |00> + |11>. If False, force antisymmetric state |00> - |11>\n",
        "            parameter += - step*(new_error - error) - np.sign(new_error - error)*new_error + get_sym_state(parameter,False)\n",
        "            error = new_error\n",
        "            parameter_data.append(parameter)\n",
        "\n",
        "        iterations += 1\n",
        "\n",
        "    #Show Results:\n",
        "    ######################################################    \n",
        "    print('\\n',freqs,'\\n')  # get an idea of what was the final frequency count\n",
        "    print('Circuit:')\n",
        "    print(circuit,'\\n','Details:')\n",
        "\n",
        "    plt.figure(0)\n",
        "    plt.title('Explored Error vs. Parameters')\n",
        "    plt.xlabel('Parameter')\n",
        "    plt.ylabel('Error')\n",
        "    plt.plot(parameter_data,error_data,'.')\n",
        "\n",
        "    plt.figure(1)\n",
        "    plt.title('Error Evolution')\n",
        "    plt.xlabel('Iteration')\n",
        "    plt.ylabel('Error')\n",
        "    plt.plot(range(len(error_data)),error_data)\n",
        "            \n",
        "    plt.figure(2)\n",
        "    plt.title('Parameter Evolution')\n",
        "    plt.xlabel('Iteration')\n",
        "    plt.ylabel('Parameter')\n",
        "    plt.plot(range(len(parameter_data)),parameter_data)\n",
        "    \n",
        "    \n",
        "def get_sym_state(parameter, choice):\n",
        "    if choice:\n",
        "        return np.heaviside(-parameter,0)\n",
        "    else:\n",
        "        return - np.sign(parameter)*np.heaviside(parameter,0) \n",
        "\n",
        "\n",
        "def make_circuit(qubits,theta):\n",
        "    \"\"\"Generates a state with equal probability of being in |00> and |11>\"\"\"\n",
        "\n",
        "    c = cirq.Circuit()\n",
        "    \n",
        "    c.append([\n",
        "        # add noise (5% probability of getting some Pauli gates scrambling our system)\n",
        "        cirq.DepolarizingChannel(0.05).on(qubits[0]), \n",
        "        cirq.DepolarizingChannel(0.05).on(qubits[1]),\n",
        "        \n",
        "        # put gates in the circuit\n",
        "        cirq.ry(theta)(qubits[0]),\n",
        "        cirq.CNOT(qubits[0],qubits[1]),\n",
        "\n",
        "        # measure state\n",
        "        cirq.measure(*qubits, key='result')\n",
        "    ])\n",
        "\n",
        "    return c\n",
        "\n",
        "if __name__ == '__main__':\n",
        "    main()"
      ],
      "execution_count": 358,
      "outputs": [
        {
          "output_type": "stream",
          "text": [
            "iteration 0: parameter = 1.1315678486974647, error = 0.20839999999999995\n",
            "iteration 1: parameter = 0.3478838486974647, error = 0.768736\n",
            "iteration 2: parameter = -1.4264555113025352, error = 0.051396\n",
            "iteration 3: parameter = -1.3678861113025351, error = 0.08326399999999998\n",
            "iteration 4: parameter = -1.451468791302535, error = 0.047395999999999994\n",
            "\n",
            " Counter({'[0 0]': 523, '[1 1]': 437, '[0 1]': 22, '[1 0]': 18}) \n",
            "\n",
            "Circuit:\n",
            "(0, 0): ───D(0.05)───Ry(-0.462π)───@───M('result')───\n",
            "                                   │   │\n",
            "(0, 1): ───D(0.05)─────────────────X───M───────────── \n",
            " Details:\n"
          ],
          "name": "stdout"
        },
        {
          "output_type": "display_data",
          "data": {
            "image/png": "[encoded data removed]",
            "text/plain": [
              "<Figure size 432x288 with 1 Axes>"
            ]
          },
          "metadata": {
            "tags": []
          }
        },
        {
          "output_type": "display_data",
          "data": {
            "image/png": "[encoded data removed]",
            "text/plain": [
              "<Figure size 432x288 with 1 Axes>"
            ]
          },
          "metadata": {
            "tags": []
          }
        },
        {
          "output_type": "display_data",
          "data": {
            "image/png": "[encoded data removed]",
            "text/plain": [
              "<Figure size 432x288 with 1 Axes>"
            ]
          },
          "metadata": {
            "tags": []
          }
        }
      ]
    },
    {
      "cell_type": "code",
      "metadata": {
        "id": "2bugXGTiG-Ky",
        "colab_type": "code",
        "colab": {}
      },
      "source": [
        ""
      ],
      "execution_count": 0,
      "outputs": []
    }
  ]
}